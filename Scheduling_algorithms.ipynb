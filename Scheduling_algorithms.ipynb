{
 "cells": [
  {
   "cell_type": "markdown",
   "metadata": {},
   "source": [
    "# Scheduling Algorithms"
   ]
  },
  {
   "cell_type": "markdown",
   "metadata": {},
   "source": [
    "### Creating a class for processes"
   ]
  },
  {
   "cell_type": "code",
   "execution_count": 1,
   "metadata": {},
   "outputs": [],
   "source": [
    "import numpy as np\n",
    "import matplotlib.pyplot as plt"
   ]
  },
  {
   "cell_type": "code",
   "execution_count": 2,
   "metadata": {
    "collapsed": true
   },
   "outputs": [],
   "source": [
    "class Process:\n",
    "    \n",
    "    def __init__ ( self, pid, arrival_time, burst_time, priority ) :\n",
    "        \n",
    "        self.pid = pid\n",
    "        self.arrival_time = arrival_time\n",
    "        self.burst_time = burst_time\n",
    "        self.priority = priority \n",
    "        self.completion_time = 0\n",
    "        \n",
    "    def ret_turn_around_time (self) :\n",
    "        \n",
    "        return (self.completion_time - self.arrival_time)\n",
    "    \n",
    "    def ret_waiting_time (self) : \n",
    "        \n",
    "        return ((self.completion_time - self.arrival_time) - self.burst_time)\n",
    "    \n",
    "    def reset_c_t (self) :\n",
    "        self.completion_time = 0\n",
    "       "
   ]
  },
  {
   "cell_type": "markdown",
   "metadata": {},
   "source": [
    "### Creating a list for all processes"
   ]
  },
  {
   "cell_type": "code",
   "execution_count": 3,
   "metadata": {
    "collapsed": true
   },
   "outputs": [],
   "source": [
    "processes_list = []"
   ]
  },
  {
   "cell_type": "markdown",
   "metadata": {},
   "source": [
    "####  Getting the number of processes"
   ]
  },
  {
   "cell_type": "code",
   "execution_count": 4,
   "metadata": {},
   "outputs": [],
   "source": [
    "tot_processes = 3#int (input())\n",
    "tot_b_t = 0 # total burst time i.e total CPU usage time"
   ]
  },
  {
   "cell_type": "markdown",
   "metadata": {},
   "source": [
    "### Getting info for the processes list"
   ]
  },
  {
   "cell_type": "code",
   "execution_count": 5,
   "metadata": {},
   "outputs": [],
   "source": [
    "# for i in range(tot_processes) :\n",
    "    \n",
    "#     print (\"Arrival time for Pid\", (i+1))\n",
    "#     a_t = int(input())\n",
    "    \n",
    "#     print (\"Burst time for Pid\", (i+1))\n",
    "#     b_t = int(input())\n",
    "#     tot_b_t += b_t\n",
    "    \n",
    "#     print (\"Priority for Pid\", (i+1))\n",
    "#     pri = int(input())\n",
    "    \n",
    "#     proc = Process((i+1), a_t, b_t, pri) # creating a instance of the class\n",
    "\n",
    "#     processes_list.append(proc) #adding each new instance to the list\n",
    "\n",
    "processes_list.append(Process(1, 0, 5, 2))\n",
    "processes_list.append(Process(2, 1, 3, 3))\n",
    "processes_list.append(Process(3, 2, 4, 1))"
   ]
  },
  {
   "cell_type": "markdown",
   "metadata": {},
   "source": [
    "## First come First Serve Algorithm ( FCFS )"
   ]
  },
  {
   "cell_type": "code",
   "execution_count": 6,
   "metadata": {},
   "outputs": [
    {
     "name": "stdout",
     "output_type": "stream",
     "text": [
      "Order of service according to FCFS (pid) : \n",
      "1\n",
      "2\n",
      "3\n"
     ]
    }
   ],
   "source": [
    "new_processes_list = processes_list.copy()\n",
    "fcfs_processes_list = []\n",
    "pid_min_a_t = -1\n",
    "\n",
    "print(\"Order of service according to FCFS (pid) : \")\n",
    "\n",
    "while True :\n",
    "    \n",
    "    min_a_t = 9999\n",
    "    \n",
    "    for i in range(len(new_processes_list)) :\n",
    "        if(new_processes_list[i].arrival_time < min_a_t):\n",
    "            min_a_t = new_processes_list[i].arrival_time\n",
    "            pid_min_a_t = i\n",
    "            \n",
    "    current_process = new_processes_list[pid_min_a_t]\n",
    "    del new_processes_list[pid_min_a_t]\n",
    "    fcfs_processes_list.append(current_process)\n",
    "    print (current_process.pid)\n",
    "    \n",
    "    if len(new_processes_list) == 0 : break;\n",
    "        \n",
    "    "
   ]
  },
  {
   "cell_type": "code",
   "execution_count": 7,
   "metadata": {},
   "outputs": [
    {
     "name": "stdout",
     "output_type": "stream",
     "text": [
      "pid   completion_time  turn_around_time  waiting_time\n",
      "\n",
      "1        5                   5                 0\n",
      "2        8                   7                 4\n",
      "3        12                   10                 6\n",
      "\n",
      "\n",
      "Average Turn Around Time :  22\n",
      "Average Waiting Time :  10\n"
     ]
    }
   ],
   "source": [
    "current_process = fcfs_processes_list[0]\n",
    "current_process.completion_time = current_process.arrival_time + current_process.burst_time\n",
    "\n",
    "for i in range(1,len(fcfs_processes_list)) :\n",
    "    fcfs_processes_list[i].completion_time = fcfs_processes_list[i-1].completion_time + fcfs_processes_list[i].burst_time\n",
    "\n",
    "avg_turn_around_time = 0\n",
    "avg_waiting_time = 0\n",
    "\n",
    "print(\"pid   completion_time  turn_around_time  waiting_time\\n\")\n",
    "\n",
    "for i in range(len(fcfs_processes_list)) :\n",
    "    print (\n",
    "        fcfs_processes_list[i].pid, \"      \", \n",
    "        fcfs_processes_list[i].completion_time, \"                 \",\n",
    "        fcfs_processes_list[i].ret_turn_around_time(), \"               \", \n",
    "        fcfs_processes_list[i].ret_waiting_time()\n",
    "    )\n",
    "    \n",
    "    avg_turn_around_time += fcfs_processes_list[i].ret_turn_around_time()\n",
    "    avg_waiting_time += fcfs_processes_list[i].ret_waiting_time()\n",
    "\n",
    "print (\"\\n\\nAverage Turn Around Time : \", avg_turn_around_time)\n",
    "print (\"Average Waiting Time : \", avg_waiting_time )\n",
    "\n"
   ]
  },
  {
   "cell_type": "markdown",
   "metadata": {},
   "source": [
    "## Shortest Job First Algorithm (SJF)"
   ]
  },
  {
   "cell_type": "code",
   "execution_count": 8,
   "metadata": {},
   "outputs": [
    {
     "name": "stdout",
     "output_type": "stream",
     "text": [
      "Order of service according to SJF (pid) : \n",
      "2\n",
      "3\n",
      "1\n"
     ]
    }
   ],
   "source": [
    "new_processes_list = processes_list.copy()\n",
    "sjf_processes_list = []\n",
    "pid_min_b_t = -1\n",
    "\n",
    "print(\"Order of service according to SJF (pid) : \")\n",
    "\n",
    "while True :\n",
    "    \n",
    "    min_b_t = 9999\n",
    "    \n",
    "    for i in range(len(new_processes_list)) :\n",
    "        \n",
    "        if(new_processes_list[i].burst_time < min_b_t):\n",
    "            min_b_t = new_processes_list[i].burst_time\n",
    "            pid_min_b_t = i\n",
    "            \n",
    "    current_process = new_processes_list[pid_min_b_t]\n",
    "    del new_processes_list[pid_min_b_t]\n",
    "    sjf_processes_list.append(current_process)\n",
    "    print (current_process.pid)\n",
    "    \n",
    "    if len(new_processes_list) == 0 : break;"
   ]
  },
  {
   "cell_type": "code",
   "execution_count": 9,
   "metadata": {},
   "outputs": [
    {
     "name": "stdout",
     "output_type": "stream",
     "text": [
      "pid   completion_time  turn_around_time  waiting_time\n",
      "\n",
      "2       4                   3                0\n",
      "3       8                   6                2\n",
      "1       13                   13                8\n",
      "\n",
      "\n",
      "Average Turn Around Time :  22\n",
      "Average Waiting Time :  10\n"
     ]
    }
   ],
   "source": [
    "current_process = sjf_processes_list[0]\n",
    "current_process.completion_time = current_process.arrival_time + current_process.burst_time\n",
    "\n",
    "for i in range(1,len(sjf_processes_list)) :\n",
    "    sjf_processes_list[i].completion_time = sjf_processes_list[i-1].completion_time + sjf_processes_list[i].burst_time\n",
    "\n",
    "avg_turn_around_time = 0\n",
    "avg_waiting_time = 0\n",
    "\n",
    "print(\"pid   completion_time  turn_around_time  waiting_time\\n\")\n",
    "\n",
    "for i in range(len(sjf_processes_list)) :\n",
    "    print (\n",
    "        sjf_processes_list[i].pid, \"     \", \n",
    "        sjf_processes_list[i].completion_time, \"                 \",\n",
    "        sjf_processes_list[i].ret_turn_around_time(), \"              \", \n",
    "        sjf_processes_list[i].ret_waiting_time()\n",
    "    )\n",
    "    \n",
    "    avg_turn_around_time += sjf_processes_list[i].ret_turn_around_time()\n",
    "    avg_waiting_time += sjf_processes_list[i].ret_waiting_time()\n",
    "\n",
    "print (\"\\n\\nAverage Turn Around Time : \", avg_turn_around_time)\n",
    "print (\"Average Waiting Time : \", avg_waiting_time )"
   ]
  },
  {
   "cell_type": "markdown",
   "metadata": {},
   "source": [
    "## Priority Based Algorithm"
   ]
  },
  {
   "cell_type": "code",
   "execution_count": 10,
   "metadata": {},
   "outputs": [
    {
     "name": "stdout",
     "output_type": "stream",
     "text": [
      "Order of service according to SJF (pid) : \n",
      "3\n",
      "1\n",
      "2\n"
     ]
    }
   ],
   "source": [
    "new_processes_list = processes_list.copy()\n",
    "pri_processes_list = []\n",
    "pid_min_b_t = -1\n",
    "\n",
    "print(\"Order of service according to SJF (pid) : \")\n",
    "\n",
    "while True :\n",
    "    \n",
    "    min_p_t = 9999\n",
    "    \n",
    "    for i in range(len(new_processes_list)) :\n",
    "        \n",
    "        if(new_processes_list[i].priority < min_p_t):\n",
    "            min_p_t = new_processes_list[i].priority\n",
    "            pid_min_p_t = i\n",
    "            \n",
    "    current_process = new_processes_list[pid_min_p_t]\n",
    "    del new_processes_list[pid_min_p_t]\n",
    "    pri_processes_list.append(current_process)\n",
    "    print (current_process.pid)\n",
    "    \n",
    "    if len(new_processes_list) == 0 : break;"
   ]
  },
  {
   "cell_type": "code",
   "execution_count": 11,
   "metadata": {},
   "outputs": [
    {
     "name": "stdout",
     "output_type": "stream",
     "text": [
      "pid   completion_time  turn_around_time  waiting_time\n",
      "\n",
      "3       6                   4                0\n",
      "1       11                   11                6\n",
      "2       14                   13                10\n",
      "\n",
      "\n",
      "Average Turn Around Time :  28\n",
      "Average Waiting Time :  16\n"
     ]
    }
   ],
   "source": [
    "current_process = pri_processes_list[0]\n",
    "current_process.completion_time = current_process.arrival_time + current_process.burst_time\n",
    "\n",
    "for i in range(1,len(pri_processes_list)) :\n",
    "    pri_processes_list[i].completion_time = pri_processes_list[i-1].completion_time + pri_processes_list[i].burst_time\n",
    "\n",
    "avg_turn_around_time = 0\n",
    "avg_waiting_time = 0\n",
    "\n",
    "print(\"pid   completion_time  turn_around_time  waiting_time\\n\")\n",
    "\n",
    "for i in range(len(pri_processes_list)) :\n",
    "    print (\n",
    "        pri_processes_list[i].pid, \"     \", \n",
    "        pri_processes_list[i].completion_time, \"                 \",\n",
    "        pri_processes_list[i].ret_turn_around_time(), \"              \", \n",
    "        pri_processes_list[i].ret_waiting_time()\n",
    "    )\n",
    "    \n",
    "    avg_turn_around_time += pri_processes_list[i].ret_turn_around_time()\n",
    "    avg_waiting_time += pri_processes_list[i].ret_waiting_time()\n",
    "\n",
    "print (\"\\n\\nAverage Turn Around Time : \", avg_turn_around_time)\n",
    "print (\"Average Waiting Time : \", avg_waiting_time )"
   ]
  },
  {
   "cell_type": "markdown",
   "metadata": {},
   "source": [
    "## Shortest Job First - Preemptive"
   ]
  },
  {
   "cell_type": "code",
   "execution_count": 12,
   "metadata": {},
   "outputs": [
    {
     "name": "stdout",
     "output_type": "stream",
     "text": [
      "5\n",
      "3\n",
      "4\n",
      "pid   completion_time  turn_around_time  waiting_time\n",
      "\n",
      "1       7                   7                7\n",
      "2       3                   2                2\n",
      "3       12                   10                19\n",
      "\n",
      "\n",
      "Average Turn Around Time :  19\n",
      "Average Waiting Time :  28\n"
     ]
    }
   ],
   "source": [
    "new_processes_list = processes_list.copy()\n",
    "sjfp_processes_list = []\n",
    "\n",
    "sim_a_t = 0\n",
    "pid_min_b_t = 0\n",
    "\n",
    "for i in range(len(new_processes_list)) :\n",
    "    new_processes_list[i].reset_c_t()\n",
    "    print(new_processes_list[i].burst_time)\n",
    "\n",
    "while True :\n",
    "    \n",
    "    \n",
    "    for i in range(len(new_processes_list)) :\n",
    "        if (new_processes_list[i].arrival_time == sim_a_t) :\n",
    "            new_processes_list[i].completion_time += sim_a_t\n",
    "            sjfp_processes_list.append(new_processes_list[i])          \n",
    "            \n",
    "    \n",
    "    min_b_t = 9999\n",
    "    \n",
    "    for i in range(len(sjfp_processes_list)) :\n",
    "        \n",
    "        if(sjfp_processes_list[i].burst_time > 0) :\n",
    "            sjfp_processes_list[i].completion_time += 1\n",
    "        \n",
    "        if(sjfp_processes_list[i].burst_time < min_b_t and sjfp_processes_list[i].burst_time > 0 ):\n",
    "            min_b_t = sjfp_processes_list[i].burst_time\n",
    "            pid_min_b_t = i\n",
    "            if(sjfp_processes_list[i].arrival_time ==  sim_a_t):\n",
    "                sjfp_processes_list[i].completion_time -= 1\n",
    "   \n",
    "            \n",
    "        \n",
    "            \n",
    "    sjfp_processes_list[pid_min_b_t].burst_time -= 1\n",
    "\n",
    "    if sim_a_t == 20 :\n",
    "        break\n",
    "    sim_a_t += 1\n",
    "    \n",
    "\n",
    "avg_turn_around_time = 0\n",
    "avg_waiting_time = 0\n",
    "\n",
    "print(\"pid   completion_time  turn_around_time  waiting_time\\n\")\n",
    "\n",
    "for i in range(len(new_processes_list)) :\n",
    "    print (\n",
    "        new_processes_list[i].pid, \"     \", \n",
    "        new_processes_list[i].completion_time, \"                 \",\n",
    "        new_processes_list[i].ret_turn_around_time(), \"              \", \n",
    "        new_processes_list[i].ret_waiting_time()\n",
    "    )\n",
    "    \n",
    "    avg_turn_around_time += new_processes_list[i].ret_turn_around_time()\n",
    "    avg_waiting_time += new_processes_list[i].ret_waiting_time()\n",
    "\n",
    "print (\"\\n\\nAverage Turn Around Time : \", avg_turn_around_time)\n",
    "print (\"Average Waiting Time : \", avg_waiting_time )"
   ]
  },
  {
   "cell_type": "code",
   "execution_count": null,
   "metadata": {
    "collapsed": true
   },
   "outputs": [],
   "source": []
  },
  {
   "cell_type": "code",
   "execution_count": null,
   "metadata": {
    "collapsed": true
   },
   "outputs": [],
   "source": []
  }
 ],
 "metadata": {
  "kernelspec": {
   "display_name": "Python 3",
   "language": "python",
   "name": "python3"
  },
  "language_info": {
   "codemirror_mode": {
    "name": "ipython",
    "version": 3
   },
   "file_extension": ".py",
   "mimetype": "text/x-python",
   "name": "python",
   "nbconvert_exporter": "python",
   "pygments_lexer": "ipython3",
   "version": "3.5.3"
  }
 },
 "nbformat": 4,
 "nbformat_minor": 2
}
