{
 "cells": [
  {
   "cell_type": "markdown",
   "metadata": {},
   "source": [
    "# Scheduling Algorithms"
   ]
  },
  {
   "cell_type": "markdown",
   "metadata": {},
   "source": [
    "### Creating a class for processes"
   ]
  },
  {
   "cell_type": "code",
   "execution_count": 20,
   "metadata": {
    "collapsed": false
   },
   "outputs": [],
   "source": [
    "class Process:\n",
    "    \n",
    "    def __init__ ( self, pid, arrival_time, burst_time, priority ) :\n",
    "        \n",
    "        self.pid = pid\n",
    "        self.arrival_time = arrival_time\n",
    "        self.burst_time = burst_time\n",
    "        self.priority = priority\n",
    "        \n",
    "    "
   ]
  },
  {
   "cell_type": "markdown",
   "metadata": {},
   "source": [
    "### Creating a list for all processes"
   ]
  },
  {
   "cell_type": "code",
   "execution_count": 21,
   "metadata": {
    "collapsed": false
   },
   "outputs": [],
   "source": [
    "processes_list = []"
   ]
  },
  {
   "cell_type": "markdown",
   "metadata": {},
   "source": [
    "####  Getting the number of processes"
   ]
  },
  {
   "cell_type": "code",
   "execution_count": 22,
   "metadata": {
    "collapsed": false
   },
   "outputs": [
    {
     "name": "stdout",
     "output_type": "stream",
     "text": [
      "3\n"
     ]
    }
   ],
   "source": [
    "x = int (raw_input())"
   ]
  },
  {
   "cell_type": "markdown",
   "metadata": {},
   "source": [
    "#### Getting info for the processes list"
   ]
  },
  {
   "cell_type": "code",
   "execution_count": 32,
   "metadata": {
    "collapsed": false
   },
   "outputs": [
    {
     "name": "stdout",
     "output_type": "stream",
     "text": [
      "Arrival time for pid 1\n",
      "4\n",
      "Burst time for pid 1\n",
      "3\n",
      "Priority for pid 1\n",
      "2\n",
      "Arrival time for pid 2\n",
      "1\n",
      "Burst time for pid 2\n",
      "4\n",
      "Priority for pid 2\n",
      "3\n",
      "Arrival time for pid 3\n",
      "2\n",
      "Burst time for pid 3\n",
      "3\n",
      "Priority for pid 3\n",
      "2\n"
     ]
    }
   ],
   "source": [
    "for i in range(x) :\n",
    "    \n",
    "    print \"Arrival time for pid\", (i+1)\n",
    "    a_t = int(raw_input())\n",
    "    \n",
    "    print \"Burst time for pid\", (i+1)\n",
    "    b_t = int(raw_input())\n",
    "    \n",
    "    print \"Priority for pid\", (i+1)\n",
    "    pri = int(raw_input())\n",
    "    \n",
    "    proc = Process((i+1), a_t, b_t, pri) # creating a instance of the class\n",
    "    \n",
    "    processes_list.append(proc) #adding each new instance to the list"
   ]
  },
  {
   "cell_type": "markdown",
   "metadata": {},
   "source": [
    "## First come First Serve Algorithm ( FCFS )"
   ]
  },
  {
   "cell_type": "code",
   "execution_count": null,
   "metadata": {
    "collapsed": true
   },
   "outputs": [],
   "source": [
    "#make new proc list copy\n",
    "while True :\n",
    "\n",
    "    "
   ]
  }
 ],
 "metadata": {
  "kernelspec": {
   "display_name": "Python 3",
   "language": "python",
   "name": "python3"
  },
  "language_info": {
   "codemirror_mode": {
    "name": "ipython",
    "version": 2
   },
   "file_extension": ".py",
   "mimetype": "text/x-python",
   "name": "python",
   "nbconvert_exporter": "python",
   "pygments_lexer": "ipython2",
   "version": "2.7.13"
  }
 },
 "nbformat": 4,
 "nbformat_minor": 2
}
