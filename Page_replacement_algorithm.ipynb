{
 "cells": [
  {
   "cell_type": "markdown",
   "metadata": {},
   "source": [
    "# Page Replacement Algorithms"
   ]
  },
  {
   "cell_type": "markdown",
   "metadata": {},
   "source": [
    "### Prerequisite"
   ]
  },
  {
   "cell_type": "code",
   "execution_count": 5,
   "metadata": {},
   "outputs": [],
   "source": [
    "import numpy as np\n",
    "\n",
    "ref_str_array  = np.array([3,4,1,2,3,0,3,2,4,1,0,2,1])\n",
    "page_size = 3"
   ]
  },
  {
   "cell_type": "markdown",
   "metadata": {},
   "source": [
    "## First Come First Serve"
   ]
  },
  {
   "cell_type": "code",
   "execution_count": 6,
   "metadata": {},
   "outputs": [
    {
     "name": "stdout",
     "output_type": "stream",
     "text": [
      "List :  [3, 4, 1]  Current page : 2\n",
      "List :  [2, 4, 1]  Current page : 3\n",
      "List :  [2, 3, 1]  Current page : 0\n",
      "List :  [2, 3, 0]  Current page : 3\n",
      "List :  [2, 3, 0]  Current page : 2\n",
      "List :  [2, 3, 0]  Current page : 4\n",
      "List :  [4, 3, 0]  Current page : 1\n",
      "List :  [4, 1, 0]  Current page : 0\n",
      "List :  [4, 1, 0]  Current page : 2\n",
      "List :  [4, 1, 2]  Current page : 1\n",
      "\n",
      "Number of page faults =  9\n"
     ]
    }
   ],
   "source": [
    "cur_ref_str_pos = 0\n",
    "fcfs_page_fault = 0\n",
    "page_list_replace_pos = 0\n",
    "page_list = []\n",
    "\n",
    "for i in range(page_size) :\n",
    "    \n",
    "    page_list.append(ref_str_array[cur_ref_str_pos])\n",
    "    fcfs_page_fault += 1\n",
    "    cur_ref_str_pos += 1\n",
    "\n",
    "while (cur_ref_str_pos != ref_str_array.size) :\n",
    "    \n",
    "    print(\"List : \",page_list,\" Current page :\" , ref_str_array[cur_ref_str_pos] )\n",
    "\n",
    "    \n",
    "    if (ref_str_array[cur_ref_str_pos] not in page_list) :\n",
    "        \n",
    "        fcfs_page_fault += 1\n",
    "        page_list[page_list_replace_pos] = ref_str_array[cur_ref_str_pos]\n",
    "        page_list_replace_pos += 1\n",
    "        \n",
    "        if page_list_replace_pos == page_size :\n",
    "            \n",
    "            page_list_replace_pos = 0\n",
    "        \n",
    "    cur_ref_str_pos += 1\n",
    "    \n",
    "print (\"\\nNumber of page faults = \", fcfs_page_fault)"
   ]
  },
  {
   "cell_type": "markdown",
   "metadata": {},
   "source": [
    "## Least Recently Used"
   ]
  },
  {
   "cell_type": "code",
   "execution_count": 7,
   "metadata": {},
   "outputs": [
    {
     "name": "stdout",
     "output_type": "stream",
     "text": [
      "List :  [3, 4, 1]  Current page : 2\n",
      "List :  [2, 4, 1]  Current page : 3\n",
      "List :  [2, 3, 1]  Current page : 0\n",
      "List :  [2, 3, 0]  Current page : 3\n",
      "List :  [2, 3, 0]  Current page : 2\n",
      "List :  [2, 3, 0]  Current page : 4\n",
      "List :  [4, 3, 0]  Current page : 1\n",
      "List :  [4, 1, 0]  Current page : 0\n",
      "List :  [4, 1, 0]  Current page : 2\n",
      "List :  [4, 1, 2]  Current page : 1\n",
      "\n",
      "Number of page faults =  9\n"
     ]
    }
   ],
   "source": [
    "cur_ref_str_pos = 0\n",
    "lru_page_fault = 0\n",
    "page_list = []\n",
    "page_freq_list = []\n",
    "\n",
    "for i in range(page_size) :\n",
    "    page_freq_list.append(1)\n",
    "    \n",
    "for i in range(page_size) :\n",
    "    \n",
    "    page_list.append(ref_str_array[cur_ref_str_pos])\n",
    "    \n",
    "    for j in range(0,i) :    \n",
    "        page_freq_list[j] += 1\n",
    "    \n",
    "    lru_page_fault += 1\n",
    "    cur_ref_str_pos += 1\n",
    "\n",
    "while (cur_ref_str_pos != ref_str_array.size) :\n",
    "    \n",
    "    print(\"List : \",page_list,\" Current page :\" , ref_str_array[cur_ref_str_pos] )\n",
    "    \n",
    "    if (ref_str_array[cur_ref_str_pos] in page_list) :\n",
    "        \n",
    "         page_freq_list[page_list.index(ref_str_array[cur_ref_str_pos])] += 1\n",
    "    \n",
    "    else :\n",
    "        \n",
    "        lru_page_fault += 1\n",
    "        index = page_freq_list.index(max(page_freq_list))\n",
    "        page_list [ index ] = ref_str_array[cur_ref_str_pos]\n",
    "        page_freq_list[index] = 1\n",
    "#         print(\"page fault!\")\n",
    "        for i in range(page_size) :\n",
    "            if i != index :\n",
    "                page_freq_list[i] += 1\n",
    "    \n",
    "    cur_ref_str_pos += 1\n",
    "\n",
    "print(\"\\nNumber of page faults = \",lru_page_fault)"
   ]
  },
  {
   "cell_type": "markdown",
   "metadata": {},
   "source": [
    "## Optimal Page Algorithm (LFU)"
   ]
  },
  {
   "cell_type": "code",
   "execution_count": 8,
   "metadata": {},
   "outputs": [
    {
     "name": "stdout",
     "output_type": "stream",
     "text": [
      "List :  [3, 4, 1]  Current page : 2\n",
      "List :  [3, 2, 1]  Current page : 3\n",
      "List :  [3, 2, 1]  Current page : 0\n",
      "List :  [0, 2, 1]  Current page : 3\n",
      "List :  [3, 2, 1]  Current page : 2\n",
      "List :  [3, 2, 1]  Current page : 4\n",
      "List :  [4, 2, 1]  Current page : 1\n",
      "List :  [4, 2, 1]  Current page : 0\n",
      "List :  [0, 2, 1]  Current page : 2\n",
      "List :  [0, 2, 1]  Current page : 1\n",
      "\n",
      "Number of page faults =  8\n"
     ]
    }
   ],
   "source": [
    "cur_ref_str_pos = 0\n",
    "lfu_page_fault = 0\n",
    "page_list = []\n",
    "\n",
    "for i in range(page_size) :\n",
    "    \n",
    "    page_list.append(ref_str_array[cur_ref_str_pos])\n",
    "    lfu_page_fault += 1\n",
    "    cur_ref_str_pos += 1\n",
    "\n",
    "while (cur_ref_str_pos != ref_str_array.size) :    \n",
    "    print(\"List : \",page_list,\" Current page :\" , ref_str_array[cur_ref_str_pos] )\n",
    "    if (ref_str_array[cur_ref_str_pos] not in page_list) :\n",
    "        \n",
    "        lfu_page_fault += 1\n",
    "        min_count = 9999\n",
    "        min_count_index = -1\n",
    "        for i in range(page_size) :\n",
    "            \n",
    "            if(ref_str_array.tolist().count(page_list[i]) < min_count) :\n",
    "                min_count = ref_str_array.tolist().count(page_list[i])\n",
    "                min_count_index = i\n",
    "        \n",
    "#         print(ref_str_array.tolist().count(page_list[i]), min_count_index )\n",
    "        \n",
    "        page_list[min_count_index] = ref_str_array[cur_ref_str_pos]\n",
    "        \n",
    "    cur_ref_str_pos += 1\n",
    "\n",
    "print (\"\\nNumber of page faults = \", lfu_page_fault )\n",
    "    "
   ]
  }
 ],
 "metadata": {
  "kernelspec": {
   "display_name": "Python 3",
   "language": "python",
   "name": "python3"
  },
  "language_info": {
   "codemirror_mode": {
    "name": "ipython",
    "version": 3
   },
   "file_extension": ".py",
   "mimetype": "text/x-python",
   "name": "python",
   "nbconvert_exporter": "python",
   "pygments_lexer": "ipython3",
   "version": "3.5.3"
  }
 },
 "nbformat": 4,
 "nbformat_minor": 2
}
